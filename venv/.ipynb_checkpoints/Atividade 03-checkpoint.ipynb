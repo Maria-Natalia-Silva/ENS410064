{
 "cells": [
  {
   "cell_type": "markdown",
   "id": "6f6e9760-b595-4f7b-8f85-ad7354ff14d3",
   "metadata": {},
   "source": [
    "# ***Atividade 03***\n",
    "\n",
    "Alunas: Maria Natalia da Silva (17207797) e Marília Meister (20250396)\n",
    "\n",
    "Nesta atividade vocês precisarão implementar o modelo gaussiano no Python. Vocês devem realizar os seguintes tópicos:\n",
    "\n",
    "- Item01: Implementar uma função para determinar a classe de estabilidade de Pasquil para diferentes condições atmosféricas.\n",
    "  \n",
    "- Item02: Implementar a função de estimativa de coefiente de dispersão (sigmaYZ) para todas as classes de estabilidade.\n",
    "\n",
    "- Item03: Implementar a função de estimativa de sobrelevação da pluma utilizando os métodos de Davidson-Bryant, Holland e Briggs (quem fizer o método de Briggs ganha um ponto a mais). Deve ser considerado o efeito Tip-Downwash\n",
    "\n",
    "- Item04: Implementar a função do modelo gaussiano\n",
    "\n",
    "- Item05: Realizar simulações com o script criado, utilizando diferentes classes de estabilidade, velocidades do vento, alturas de chaminé. Considere a taxa de emissão que você estimou na primeira atividade. Encontre a altura de chaminé necessária para que as concentrações não violem os padrões da Resolução CONAMA 491.\n",
    "\n",
    "- Item06: Faça figuras e discuta os resultados."
   ]
  },
  {
   "cell_type": "code",
   "execution_count": 172,
   "id": "5d6b0242-2632-44eb-a0f6-8331de5ec2a2",
   "metadata": {},
   "outputs": [],
   "source": [
    "#Importando as biblotecas que serão utilizadas no trabalho\n",
    "\n",
    "import pandas as pd\n",
    "import numpy as np\n",
    "import os"
   ]
  },
  {
   "cell_type": "markdown",
   "id": "cf8e35de-e323-4086-b61f-f4b6334a14d9",
   "metadata": {},
   "source": [
    "# ***Item 01***\n",
    "\n",
    "***Implementar uma função para determinar a classe de estabilidade de Pasquil para diferentes condições atmosféricas.***\n",
    "\n",
    "Utilizando os dados da atividade 02, gerada pelo EX-AERMOD, foi implementada uma função para determinar a classe de estabilidaade Pasquil. Essa função foi denomidade \"pasquil\". \n"
   ]
  },
  {
   "cell_type": "code",
   "execution_count": 173,
   "id": "ba02c4b0-58a2-49a4-ac9a-0b785c3d9b6e",
   "metadata": {},
   "outputs": [
    {
     "name": "stdout",
     "output_type": "stream",
     "text": [
      "      ano  m?  dia  dia_juliano  hora  calor_sens [W/m2]  vel_atri [m/s]  \\\n",
      "0      23   1    1            1     1              -44.6           0.510   \n",
      "1      23   1    1            1     2              -46.1           0.527   \n",
      "2      23   1    1            1     3              -52.7           0.602   \n",
      "3      23   1    1            1     4              -59.1           0.676   \n",
      "4      23   1    1            1     5              -24.2           0.277   \n",
      "...   ...  ..  ...          ...   ...                ...             ...   \n",
      "8779   24   1    1            1    20                NaN          -9.000   \n",
      "8780   24   1    1            1    21                NaN          -9.000   \n",
      "8781   24   1    1            1    22                NaN          -9.000   \n",
      "8782   24   1    1            1    23                NaN          -9.000   \n",
      "8783   24   1    1            1    24                NaN          -9.000   \n",
      "\n",
      "      vel_convc [m/s]  grad_temp[K/m]  altura_mist_ convec [m]  ...  temp[K]  \\\n",
      "0                -9.0            -9.0                     -999  ...    298.1   \n",
      "1                -9.0            -9.0                     -999  ...    298.1   \n",
      "2                -9.0            -9.0                     -999  ...    298.1   \n",
      "3                -9.0            -9.0                     -999  ...    298.1   \n",
      "4                -9.0            -9.0                     -999  ...    298.1   \n",
      "...               ...             ...                      ...  ...      ...   \n",
      "8779             -9.0            -9.0                     -999  ...      NaN   \n",
      "8780             -9.0            -9.0                     -999  ...      NaN   \n",
      "8781             -9.0            -9.0                     -999  ...      NaN   \n",
      "8782             -9.0            -9.0                     -999  ...      NaN   \n",
      "8783             -9.0            -9.0                     -999  ...      NaN   \n",
      "\n",
      "      temp[?C]  alt_medicao[m]  cod_prec  precip[mm/hr]  umid_rela[%]  \\\n",
      "0        24.95               2         0              0            83   \n",
      "1        24.95               2         0              0            83   \n",
      "2        24.95               2         0              0            83   \n",
      "3        24.95               2         0              0            83   \n",
      "4        24.95               2         0              0            89   \n",
      "...        ...             ...       ...            ...           ...   \n",
      "8779       NaN              -9         0              0           999   \n",
      "8780       NaN              -9         0              0           999   \n",
      "8781       NaN              -9         0              0           999   \n",
      "8782       NaN              -9      9999             -9           999   \n",
      "8783       NaN              -9      9999             -9           999   \n",
      "\n",
      "      pressao[mb]  cob_nuvens   ajuste  interpolacao  \n",
      "0            1010         6.0  NAD-SFC        NoSubs  \n",
      "1            1010         6.0  NAD-SFC        NoSubs  \n",
      "2            1010         6.0  NAD-SFC        NoSubs  \n",
      "3            1010         6.0  NAD-SFC        NoSubs  \n",
      "4            1010         6.0  NAD-SFC        NoSubs  \n",
      "...           ...         ...      ...           ...  \n",
      "8779        99999         NaN      NAD        NoSubs  \n",
      "8780        99999         NaN      NAD        NoSubs  \n",
      "8781        99999         NaN      NAD        NoSubs  \n",
      "8782        99999         NaN      NAD        NoSubs  \n",
      "8783        99999         NaN      NAD        NoSubs  \n",
      "\n",
      "[8784 rows x 28 columns]\n"
     ]
    }
   ],
   "source": [
    "#----------- Obtendo os dados gerados na atividade 02-------------------#\n",
    "\n",
    "# Caminho do arquivo de dados\n",
    "path = r\"C:\\Guilherme\\ControleP\\ENS410064\\inputs\\ezaermod\\meteo_sfc_mod.csv\"\n",
    "\n",
    "#Leitura dos dados\n",
    "data = pd.read_csv(path, encoding = 'latin1')\n",
    "print(data)\n",
    "\n",
    "\n",
    "# Selecionar um dia aleatório de todo o ano com as colunas desejadas\n",
    "dia_aleatorio = data.sample(1)[['ano', 'm?', 'dia', 'hora', 'cob_nuvens', 'velo_vento[m/s]', 'calor_sens [W/m2]']]\n",
    "\n",
    "\n",
    "\n"
   ]
  },
  {
   "cell_type": "code",
   "execution_count": 174,
   "id": "5af9ff1a-69cb-4c80-ad84-a013e29e4d8c",
   "metadata": {
    "scrolled": true
   },
   "outputs": [
    {
     "data": {
      "text/html": [
       "<div>\n",
       "<style scoped>\n",
       "    .dataframe tbody tr th:only-of-type {\n",
       "        vertical-align: middle;\n",
       "    }\n",
       "\n",
       "    .dataframe tbody tr th {\n",
       "        vertical-align: top;\n",
       "    }\n",
       "\n",
       "    .dataframe thead th {\n",
       "        text-align: right;\n",
       "    }\n",
       "</style>\n",
       "<table border=\"1\" class=\"dataframe\">\n",
       "  <thead>\n",
       "    <tr style=\"text-align: right;\">\n",
       "      <th></th>\n",
       "      <th>ano</th>\n",
       "      <th>m?</th>\n",
       "      <th>dia</th>\n",
       "      <th>hora</th>\n",
       "      <th>cob_nuvens</th>\n",
       "      <th>velo_vento[m/s]</th>\n",
       "      <th>calor_sens [W/m2]</th>\n",
       "    </tr>\n",
       "  </thead>\n",
       "  <tbody>\n",
       "    <tr>\n",
       "      <th>7448</th>\n",
       "      <td>23</td>\n",
       "      <td>11</td>\n",
       "      <td>7</td>\n",
       "      <td>9</td>\n",
       "      <td>6.0</td>\n",
       "      <td>2.6</td>\n",
       "      <td>124.3</td>\n",
       "    </tr>\n",
       "  </tbody>\n",
       "</table>\n",
       "</div>"
      ],
      "text/plain": [
       "      ano  m?  dia  hora  cob_nuvens  velo_vento[m/s]  calor_sens [W/m2]\n",
       "7448   23  11    7     9         6.0              2.6              124.3"
      ]
     },
     "execution_count": 174,
     "metadata": {},
     "output_type": "execute_result"
    }
   ],
   "source": [
    "dia_aleatorio"
   ]
  },
  {
   "cell_type": "code",
   "execution_count": 175,
   "id": "3912062d-6ecf-4e58-ac4f-ea52f8fe3fd0",
   "metadata": {},
   "outputs": [],
   "source": [
    "def pasquil (data):\n",
    "\n",
    "    radiacao = data['calor_sens [W/m2]'] \n",
    "    vel_vento = data['velo_vento[m/s]']\n",
    "    cob_nuvens = data['cob_nuvens']\n",
    "    hora = data['hora']\n",
    "\n",
    "    print (hora)\n",
    "    \n",
    "    if 7 <= hora <= 18: #Durante o dia\n",
    "\n",
    "        if radiacao > 700:\n",
    "            if vel_vento < 2:\n",
    "                return 'A'\n",
    "            elif 2 <= vel_vento < 3:\n",
    "                return 'A - B'\n",
    "            elif 3 <= vel_vento < 5:\n",
    "                return 'B'\n",
    "            elif 5 <= vel_vento < 6:\n",
    "                return 'C - D'\n",
    "            else:\n",
    "                return 'D'\n",
    "        elif 350 < radiacao <= 700:\n",
    "            if velocidade_vento < 2:\n",
    "                return 'A - B'\n",
    "            elif 2 <= vel_vento < 3:\n",
    "                return 'B'\n",
    "            elif 3 <= vel_vento < 5:\n",
    "                return 'B - C'\n",
    "            elif 5 <= vel_vento < 6:\n",
    "                return 'C - D'\n",
    "            else:\n",
    "                return 'D'\n",
    "        elif radiacao <= 350:\n",
    "            if vel_vento < 2:\n",
    "                return 'B'\n",
    "            elif 2 <= vel_vento < 3:\n",
    "                return 'B - C'\n",
    "            elif 3 <= vel_vento < 5:\n",
    "                return 'C'\n",
    "            elif 5 <= vel_vento < 6:\n",
    "                return 'C - D'\n",
    "            else:\n",
    "                return 'D'\n",
    "    \n",
    "    elif 7 > hora > 18: #Durante o dia\n",
    "        if cob_nuvens is None:\n",
    "            return 'Parâmetro de cobertura de nuvens é necessário durante a noite.'\n",
    "    \n",
    "        if cob_nuvens >= 4/8:\n",
    "            if vel_vento < 2:\n",
    "                return 'E'\n",
    "            elif 2 <= vel_vento < 3:\n",
    "                return 'E'\n",
    "            elif 3 <= vel_vento < 5:\n",
    "                return 'D'\n",
    "            elif 5 <= vel_vento < 6:\n",
    "                return 'D'\n",
    "            else:\n",
    "                return 'D'\n",
    "        elif cob_nuvens < 3/8:\n",
    "            if vel_vento < 2:\n",
    "                return 'F'\n",
    "            elif 2 <= vel_vento < 3:\n",
    "                return 'E'\n",
    "            elif 3 <= vel_vento < 5:\n",
    "                return 'D'\n",
    "            elif 5 <= vel_vento < 6:\n",
    "                return 'D'\n",
    "            else:\n",
    "                return 'D'\n",
    "    \n",
    "    return 'Parâmetros inválidos. Verifique os valores fornecidos.'    "
   ]
  },
  {
   "cell_type": "markdown",
   "id": "74a4de20-5c21-477f-be85-55dbe9a5a9bb",
   "metadata": {},
   "source": [
    "# ***Item 02***\n",
    "\n",
    "***Implementar a função de estimativa de coefiente de dispersão (sigmaYZ) para todas as classes de estabilidade.***\n",
    "\n",
    "Foi criada a função \"sigmaXY\" para estimar o coeficiente de dispersão para todas as classes de estabilidade. \n"
   ]
  },
  {
   "cell_type": "code",
   "execution_count": 176,
   "id": "0b7c6cf6-25e2-4743-827e-d281a2570d7c",
   "metadata": {},
   "outputs": [],
   "source": [
    "# Criando função da estimativa da dispersão lateral e vertical da pluma\n",
    "def sigmaXY(x, classe, urbOrRural):\n",
    "    \n",
    "    if urbOrRural == 'urbano':\n",
    "        if classe in ['A', 'B']:\n",
    "            sigmaY = 0.32 * x * (1 + 0.0004 * x) ** (-0.5)\n",
    "            sigmaZ = 0.24 * x * (1 + 0.001 * x) ** (0.5)\n",
    "        elif classe == 'C':\n",
    "            sigmaY = 0.22 * x * (1 + 0.0004 * x) ** (-0.5)\n",
    "            sigmaZ = 0.20 * x\n",
    "        elif classe == 'D':\n",
    "            sigmaY = 0.16 * x * (1 + 0.0004 * x) ** (-0.5)\n",
    "            sigmaZ = 0.14 * x * (1 + 0.0003 * x) ** (-0.5)\n",
    "        elif classe == 'E':\n",
    "            sigmaY = 0.11 * x * (1 + 0.0001 * x) ** (-0.5)\n",
    "            sigmaZ = 0.08 * x * (1 + 0.0015 * x) ** (-0.5)\n",
    "        elif classe == 'F':\n",
    "            sigmaY = 0.11 * x * (1 + 0.0001 * x) ** (-0.5)\n",
    "            sigmaZ = 0.08 * x * (1 + 0.0015 * x) ** (-0.5)\n",
    "        else:\n",
    "            print('Classe de estabilidade errada')\n",
    "    elif urbOrRural == 'rural':\n",
    "        if classe == 'A':\n",
    "            sigmaY = 0.22 * x * (1 + 0.0001 * x) ** (-0.5)\n",
    "            sigmaZ = 0.20 * x\n",
    "        elif classe == 'B':\n",
    "            sigmaY = 0.16 * x * (1 + 0.0001 * x) ** (-0.5)\n",
    "            sigmaZ = 0.12 * x\n",
    "        elif classe == 'C':\n",
    "            sigmaY = 0.11 * x * (1 + 0.0001 * x) ** (-0.5)\n",
    "            sigmaZ = 0.08 * x * (1 + 0.0002 * x) ** (-0.5)\n",
    "        elif classe == 'D':\n",
    "            sigmaY = 0.08 * x * (1 + 0.0001 * x) ** (-0.5)\n",
    "            sigmaZ = 0.06 * x * (1 + 0.0015 * x) ** (-0.5)\n",
    "        elif classe == 'E':\n",
    "            sigmaY = 0.06 * x * (1 + 0.0001 * x) ** (-0.5)\n",
    "            sigmaZ = 0.03 * x * (1 + 0.0003 * x) ** (-1)\n",
    "        elif classe == 'F':\n",
    "            sigmaY = 0.04 * x * (1 + 0.0001 * x) ** (-0.5)\n",
    "            sigmaZ = 0.016 * x * (1 + 0.0003 * x) ** (-1)\n",
    "        else:\n",
    "            print('Classe de estabilidade errada. Fique ligado')\n",
    "    else:\n",
    "        print('Tipo de região errada. Use \"urbano\" ou \"rural\".')\n",
    "    \n",
    "    return sigmaY, sigmaZ"
   ]
  },
  {
   "cell_type": "markdown",
   "id": "a7f3c237-7127-401b-a59b-15e0600a38ed",
   "metadata": {},
   "source": [
    "# ***Item 03***\n",
    "\n",
    "***Implementar a função de estimativa de sobrelevação da pluma utilizando os métodos de Davidson-Bryant, Holland e Briggs (quem fizer o método de Briggs ganha um ponto a mais). Deve ser considerado o efeito Tip-Downwash.***"
   ]
  },
  {
   "cell_type": "code",
   "execution_count": 219,
   "id": "519e2f98-222f-4802-a923-2b5ca68cf3ff",
   "metadata": {},
   "outputs": [],
   "source": [
    "def tip_downwash (h, d, v_s, u):\n",
    "    ''' Aplica a correção Tip-Downwash na altura da chaminé.\n",
    "    \n",
    "    Parâmetros:\n",
    "    h : Altura da chaminé (m)\n",
    "    d : Diâmetro da chaminé (m)\n",
    "    v_s : Velocidade de saída da pluma (m/s)\n",
    "    u : Velocidade do vento à altura da chaminé (m/s)\n",
    "    \n",
    "    Retorna:\n",
    "    float: Altura corrigida da chaminé (m)\n",
    "    '''\n",
    "    if v_s < 1.5 * u:\n",
    "        h_corrigida = h + 2 * d * (v_s / u - 1.5)\n",
    "        return max(h_corrigida, 0)  # Garantir que a altura corrigida não seja negativa\n",
    "    return h\n",
    "    \n",
    "def deltaH_davdson_bryant (h, d, T_s, T_a, v_s, u):\n",
    "    \n",
    "    delta_T = T_s - T_a\n",
    "    delta_h = d * (v_s / u)**1.4 * (1 + delta_T / T_s)\n",
    "    return delta_h\n",
    "\n",
    "def deltaHholland(d, vs, u, Ts, Tamb, p, estabilidade):\n",
    "    deltaH = (d * vs / u) * (1.5 + 2.68 * 10**-3 * p * (Tamb / Ts) * d)\n",
    "    \n",
    "    # Ajuste para condições de estabilidade\n",
    "    if estabilidade == 'instável':\n",
    "        deltaH *= 1.2  # Aumento de 20%\n",
    "    elif estabilidade == 'estável':\n",
    "        deltaH *= 0.8  # Redução de 20%\n",
    "    \n",
    "    return deltaH\n",
    "\n",
    "# Função principal para estimar a sobrelevação da pluma\n",
    "def estimar_sobrelevacao_pluma(d, vs, u, Ts, Tamb, p, estabilidade, metodo, hg):\n",
    "    if metodo == 'Davidson-Bryant':\n",
    "        deltaH = deltaH_davdson_bryant(hg, d, Ts, Tamb, vs, u)\n",
    "        print(\"aqui1\")\n",
    "        print(deltaH)\n",
    "    elif metodo == 'Holland':\n",
    "        deltaH = deltaHholland(d, vs, u, Ts, Tamb, p, estabilidade)\n",
    "        print(\"aqui2\")\n",
    "        print(deltaH)\n",
    "    else:\n",
    "        raise ValueError(\"Método não reconhecido. Use 'Davidson-Bryant' ou 'Holland'.\")\n",
    "\n",
    "    hef = deltaH + tip_downwash(hg, d, vs, u)\n",
    "    \n",
    "    return hef\n",
    "\n",
    "\n"
   ]
  },
  {
   "cell_type": "markdown",
   "id": "6350ea9c-60df-4ce1-bed7-c0ada1b1775b",
   "metadata": {},
   "source": [
    "# ***Item 04***\n",
    "\n",
    "***Implementar a função do modelo gaussiano.***"
   ]
  },
  {
   "cell_type": "code",
   "execution_count": 220,
   "id": "481926a4-ec90-451e-9b74-9e746d85876d",
   "metadata": {},
   "outputs": [],
   "source": [
    "# Criando uma função do modelo gaussiano\n",
    "def modeloGaussiano(qs,sigmaY,sigmaZ,u,y,z,H):\n",
    "    termo1 = qs/(2*np.pi*sigmaY*sigmaZ*u)\n",
    "    termo2 = np.exp((-y**2)/(2*sigmaY**2))\n",
    "    termo3 = np.exp((-(z-H)**2)/(2*sigmaZ**2)) + np.exp((-(z+H)**2)/(2*sigmaZ**2))\n",
    "    conc = termo1*termo2*termo3\n",
    "    conc = conc*10**6\n",
    "    return conc"
   ]
  },
  {
   "cell_type": "markdown",
   "id": "f2ab12ab-115f-487b-85f5-3354fb6e369b",
   "metadata": {},
   "source": [
    "# ***Item 05***\n",
    "\n",
    "***Realizar simulações com o script criado, utilizando diferentes classes de estabilidade, velocidades do vento, alturas de chaminé. Considere a taxa de emissão que você estimou na primeira atividade. Encontre a altura de chaminé necessária para que as concentrações não violem os padrões da Resolução CONAMA 491.***"
   ]
  },
  {
   "cell_type": "markdown",
   "id": "e41700c8-fa5c-48c6-bf92-f8a863b10483",
   "metadata": {},
   "source": [
    "Neste item é apresentado:\n",
    "\n",
    " - 01 Classe de estabilidade encontrada no primeiro item. Posteriormente esse resultado é usado no parametro \"classe\" para fazer os calculos de sigmaY e sigmaZ, pela função definida no segundo anteriormente no presente código. [testar novas classes como pede o enunciado]\n",
    " - 02 A sobrelevação está sendo calculada pelo método de Davidson-Bryant. Aqui posso testar novos valores dos seguintes parâmetros como pedido no enunciado:\n",
    "   \n",
    "       Velocidade do vento (u);\n",
    "       Altura da chaminé (hg);\n",
    "\n",
    " - 03 Concentração pontual usado a equação Gaussina. Aqui devo usar os valores encontrados na atividade 1 de emissões, nesse caso:\n",
    "     \n",
    "        PM = 71,48 (g/s)\n",
    "        SO2 = 16010.53 (g/s)\n",
    "        NOX = 41.37 (g/s)"
   ]
  },
  {
   "cell_type": "code",
   "execution_count": 221,
   "id": "ea771eec-2c6f-4b21-9d0a-38cbd7564b5d",
   "metadata": {},
   "outputs": [
    {
     "name": "stdout",
     "output_type": "stream",
     "text": [
      "9.0\n",
      "Classe de estabilidade de Pasquill: 7448    B - C\n",
      "dtype: object\n",
      "sigmaY: 104.88088481701514 m\n",
      "sigmaZ: 50.59644256269407 m\n"
     ]
    }
   ],
   "source": [
    "# 01 Exibindo a classificação encontrada para o dia aletório encontrado no início do código e calculando os coeficientes de dispersão \n",
    "\n",
    "print(f\"Classe de estabilidade de Pasquill: {dia_aleatorio.apply(pasquil, axis=1)}\")\n",
    "\n",
    "\n",
    "# Definir os parâmetros de entrada\n",
    "x = 1000  # Distância da fonte de emissão em metros\n",
    "classe = 'E'  # Classe de estabilidade da atmosfera\n",
    "urbOrRural = 'urbano'  # Tipo de região ('urbano' ou 'rural') Para o nosso caso, notamos no trabalho 2 \n",
    "                       # que a empresa Portobello está inserida em região Urbana\n",
    "\n",
    "# Chamar a função para calcular sigmaY e sigmaZ\n",
    "sigmaY, sigmaZ = sigmaXY(x, classe, urbOrRural)\n",
    "\n",
    "# Exibir os resultados\n",
    "print(f'sigmaY: {sigmaY} m')\n",
    "print(f'sigmaZ: {sigmaZ} m')"
   ]
  },
  {
   "cell_type": "code",
   "execution_count": 222,
   "id": "add36d13-5b27-4913-a96c-dd90294bd0ef",
   "metadata": {},
   "outputs": [
    {
     "name": "stdout",
     "output_type": "stream",
     "text": [
      "aqui1\n",
      "1.6303097351283757\n",
      "A altura efetiva da chaminé (H): 151.4003097351284 [m]\n"
     ]
    }
   ],
   "source": [
    "# 02 Apresentando a sobrelevação da pluma considerando o método Davidson-Bryant -------------------------------------------------\n",
    "\n",
    "# (h, d, T_s, T_a, v_s, u):\n",
    "\n",
    "#Dados de entrada\n",
    "d = 1.0  # Exemplo de valor [diâmetro interno da chaminé (m)]\n",
    "vs = 2.77  # Foi apresentado no início do código [velocidade do efluente na saída da chaminé (m/s)]\n",
    "u = 2.0  # Exemplo de valor [velocidade do vento a 10 metros (m/s)]\n",
    "Ts = 300.0  # Exemplo de valor [temperatura do gás na saída da chaminé (K)]\n",
    "Tamb = 290.0  # Exemplo de valor [temperatura ambiente (K)]\n",
    "p = 1009  # valor que aparece na tabela do EZ-AERMOD [pressão ATM em mb] (habilitar se estiver usando o método Holland)\n",
    "estabilidade = 'instavel'  # Exemplo de condição de estabilidade (habilitar se estiver usando o método Holland)\n",
    "metodo = 'Davidson-Bryant'  # Escolha entre 'Davidson-Bryant' e 'Holland'\n",
    "hg = 150.0  # Exemplo de valor [altura da chaminé (m)]\n",
    "\n",
    "hef = estimar_sobrelevacao_pluma(d, vs, u, Ts, Tamb, p, estabilidade, metodo, hg)\n",
    "print(f'A altura efetiva da chaminé (H): {hef}', '[m]')"
   ]
  },
  {
   "cell_type": "code",
   "execution_count": 223,
   "id": "b22551a9-4139-4904-9343-92a5495c8e67",
   "metadata": {},
   "outputs": [
    {
     "name": "stdout",
     "output_type": "stream",
     "text": [
      "Polunente avaliado é o PM\n",
      "A concentração estimada é = 2103.608220798579 [μg/m³]\n"
     ]
    }
   ],
   "source": [
    "# 03_Concentração pontual usado a equação Gaussina  -----------------------------------------------------\n",
    "\n",
    "# Utilizando a função do modelo gaussiano\n",
    "qs = 71.48 # g/s usar as emissões calculadas na primeira atividade [PM = 71,48, SO2 = 16010.53, NOX = 41.37] \n",
    "sigmaY = 104.88 # m [coeficiente de dispersão] (usar o sigmaY calculado no item 01)\n",
    "sigmaZ = 50.59 # m [coeficiente de dispersão] (usar o sigmaZ calculado no item 01)\n",
    "u = 2 # m/s [velocidade média do vento] (usar o mesmo valor escolhido no item 02)\n",
    "y = 0 # estimando na direção do vento [dist. horizontal do eixo central da pluma]\n",
    "z = 1.5 # altura do nariz [dist. acima do solo]\n",
    "H = 9.77 # m usando o valor estimado no calculo [altura efetiva da chaminé] \n",
    "\n",
    "# Chamando a função do modelo gaussiano\n",
    "conc = modeloGaussiano(qs,sigmaY,sigmaZ,u,y,z,H)\n",
    "\n",
    "print(\"Polunente avaliado é o PM\")\n",
    "print(\"A concentração estimada é = \" +str(conc) + ' [μg/m³]')"
   ]
  },
  {
   "cell_type": "code",
   "execution_count": 224,
   "id": "02a5a80c-9692-4ec4-a85d-5a0f36dcfa1a",
   "metadata": {},
   "outputs": [
    {
     "data": {
      "image/png": "[encoded data removed]",
      "text/plain": [
       "<Figure size 640x480 with 1 Axes>"
      ]
     },
     "metadata": {},
     "output_type": "display_data"
    },
    {
     "data": {
      "image/png": "[encoded data removed]",
      "text/plain": [
       "<Figure size 640x480 with 1 Axes>"
      ]
     },
     "metadata": {},
     "output_type": "display_data"
    }
   ],
   "source": [
    "# Criando domínio de modelagem \n",
    "x = np.linspace(-100,10000,500)\n",
    "#print(x)\n",
    "y = np.linspace(-10000,10000,500)\n",
    "\n",
    "# Criando matrizes de x e y\n",
    "xx,yy = np.meshgrid(x,y)\n",
    "#print(xx.shape)\n",
    "\n",
    "# Estimando o coeficiente de dispersão lateral e vertical\n",
    "sigmaY,sigmaZ = sigmaXY(xx,classe,urbOrRural)\n",
    "#print(sigmaY)\n",
    "\n",
    "# Utilizando a matriz de yy como input na função do modelo gaussiano\n",
    "conc = modeloGaussiano(qs,sigmaY,sigmaZ,u,yy,z,hef)\n",
    "\n",
    "# Visualização dos resultados no espaço\n",
    "import matplotlib.pyplot as plt\n",
    "from matplotlib.colors import LogNorm\n",
    "fig,ax = plt.subplots()\n",
    "ax.contourf(xx,yy,conc+0.1,norm = LogNorm())\n",
    "\n",
    "plt.xlabel('Distância [m]')\n",
    "plt.ylabel('Desvio lateral [m]')\n",
    "plt.title('Pluma de dispersão de poluentes')\n",
    "plt.show()\n",
    "\n",
    "# Corte em y - sobre o eixo x\n",
    "fig,ax = plt.subplots()\n",
    "ax.plot(x,conc[250,:])\n",
    "plt.xlabel('Distância [m]')\n",
    "plt.ylabel('Concentração [$\\mu$g/m³]')\n",
    "plt.title('Dispersão de poluentes ao longo da distância')\n",
    "plt.show()"
   ]
  },
  {
   "cell_type": "code",
   "execution_count": null,
   "id": "709fe2c5-ec7e-447c-b028-cef77ca60b3d",
   "metadata": {},
   "outputs": [],
   "source": []
  },
  {
   "cell_type": "code",
   "execution_count": null,
   "id": "1bf53898-31d8-4d44-beaa-47b1cca417f7",
   "metadata": {},
   "outputs": [],
   "source": []
  },
  {
   "cell_type": "code",
   "execution_count": null,
   "id": "bd694860-7abc-45dc-89d8-b8264f60049f",
   "metadata": {},
   "outputs": [],
   "source": []
  }
 ],
 "metadata": {
  "kernelspec": {
   "display_name": "Python 3 (ipykernel)",
   "language": "python",
   "name": "python3"
  },
  "language_info": {
   "codemirror_mode": {
    "name": "ipython",
    "version": 3
   },
   "file_extension": ".py",
   "mimetype": "text/x-python",
   "name": "python",
   "nbconvert_exporter": "python",
   "pygments_lexer": "ipython3",
   "version": "3.11.8"
  }
 },
 "nbformat": 4,
 "nbformat_minor": 5
}
