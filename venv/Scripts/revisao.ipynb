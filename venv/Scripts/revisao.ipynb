{
 "cells": [
  {
   "cell_type": "code",
   "execution_count": 2,
   "id": "c5cfdd70-9943-4f10-b9e3-6e45d5378751",
   "metadata": {},
   "outputs": [
    {
     "name": "stdout",
     "output_type": "stream",
     "text": [
      "Guilhermegente fina\n"
     ]
    }
   ],
   "source": [
    "#Tipo de variáveis \n",
    "a='Guilherme'\n",
    "b= a + ' gente  fina'\n",
    "print(b)\n"
   ]
  },
  {
   "cell_type": "code",
   "execution_count": 8,
   "id": "12561bc6-d8b6-4a92-9656-b905aa2461ac",
   "metadata": {},
   "outputs": [
    {
     "ename": "SyntaxError",
     "evalue": "unterminated string literal (detected at line 4) (376919894.py, line 4)",
     "output_type": "error",
     "traceback": [
      "\u001b[1;36m  Cell \u001b[1;32mIn[8], line 4\u001b[1;36m\u001b[0m\n\u001b[1;33m    'alunos': ['Guilherme,'Flavia','Lucas']\u001b[0m\n\u001b[1;37m                                         ^\u001b[0m\n\u001b[1;31mSyntaxError\u001b[0m\u001b[1;31m:\u001b[0m unterminated string literal (detected at line 4)\n"
     ]
    }
   ],
   "source": [
    "#Exemplo Dicionário\n",
    "\n",
    "dicionario = {\n",
    "    'alunos': ['Guilherme,'Flavia','Lucas']\n",
    "     'notas':[3,6,6]\n",
    "}\n",
    "print(dicionario['alunos'])\n",
    "print(dicionario['notas'])\n",
    "print(type(dicionario['notas']))\n",
    "\n"
   ]
  },
  {
   "cell_type": "code",
   "execution_count": 7,
   "id": "dec48105-2c9d-4962-8797-a5a7425f80ce",
   "metadata": {},
   "outputs": [
    {
     "ename": "NameError",
     "evalue": "name 'dicionario' is not defined",
     "output_type": "error",
     "traceback": [
      "\u001b[1;31m-------------------------------------------------------------------\u001b[0m",
      "\u001b[1;31mNameError\u001b[0m                         Traceback (most recent call last)",
      "Cell \u001b[1;32mIn[7], line 3\u001b[0m\n\u001b[0;32m      1\u001b[0m \u001b[38;5;66;03m# Treinando Loop \u001b[39;00m\n\u001b[1;32m----> 3\u001b[0m \u001b[38;5;28;01mfor\u001b[39;00m aluno \u001b[38;5;129;01min\u001b[39;00m \u001b[43mdicionario\u001b[49m[\u001b[38;5;124m'\u001b[39m\u001b[38;5;124malunos\u001b[39m\u001b[38;5;124m'\u001b[39m]:\n\u001b[0;32m      4\u001b[0m     \u001b[38;5;28mprint\u001b[39m (aluno)\n",
      "\u001b[1;31mNameError\u001b[0m: name 'dicionario' is not defined"
     ]
    }
   ],
   "source": [
    "# Treinando Loop \n",
    "\n",
    "for aluno ii,aluno in enumarate(dicionario['alunos']):\n",
    "    print (aluno)\n",
    "    "
   ]
  },
  {
   "cell_type": "code",
   "execution_count": 10,
   "id": "93857928-033a-4e16-8368-4eaf3d17f3f0",
   "metadata": {},
   "outputs": [
    {
     "name": "stdout",
     "output_type": "stream",
     "text": [
      "False\n",
      "True\n",
      "False\n",
      "True\n",
      "True\n",
      "True\n",
      "False\n",
      "<class 'bool'>\n"
     ]
    }
   ],
   "source": [
    "# Operações Lógicas\n",
    "a = 1\n",
    "b = 3\n",
    "c = 1\n",
    "print(a==b) #Igual a - operação Lógica\n",
    "print(a==c)\n",
    "print(a>b) # maior que\n",
    "print(a<b) # menor que \n",
    "print(a>=c) #maior igual que\n",
    "print(a!=b) # diferente de \n",
    "print(a!=c) # diferente de\n",
    "\n",
    "\n",
    "\n",
    "opTF= a!=c\n",
    "print(type(opTF))\n",
    "\n",
    "opT= True\n",
    "opF= False\n"
   ]
  },
  {
   "cell_type": "code",
   "execution_count": 15,
   "id": "34184930-bf7f-475f-9ab5-1eb322f48e43",
   "metadata": {},
   "outputs": [
    {
     "name": "stdout",
     "output_type": "stream",
     "text": [
      "[0.14812313 0.23763463 0.38944676 0.58400368 0.80081414 0.38435985\n",
      " 0.27413094 0.56663195 0.88198042 0.18075415 0.77085507 0.60183208\n",
      " 0.55534204 0.73601075 0.37915402 0.38261908 0.85382478 0.03993627\n",
      " 0.424956   0.46289151 0.94943768 0.49948117 0.82561718 0.06914446\n",
      " 0.89588952 0.21040999 0.07890303 0.34238078 0.49586809 0.12489278\n",
      " 0.03163097 0.17027484 0.83608464 0.11695693 0.85345829 0.70627066\n",
      " 0.94088875 0.63361753 0.26263595 0.93505404 0.3293574  0.10426206\n",
      " 0.58750346 0.73928525 0.40488226 0.0619004  0.13594441 0.7787016\n",
      " 0.06457724 0.62658366 0.23317394 0.24784641 0.95267947 0.81356829\n",
      " 0.27263764 0.94277423 0.58761732 0.27803793 0.78856249 0.32828564\n",
      " 0.90041921 0.29810262 0.94202885 0.15825109 0.32822855 0.52904417\n",
      " 0.13051409 0.933341   0.22355604 0.59883079 0.90213669 0.99353165\n",
      " 0.86104801 0.8121553  0.64087342 0.41044042 0.05651752 0.54319907\n",
      " 0.94512232 0.25536946 0.30672208 0.1802921  0.39991277 0.28456417\n",
      " 0.99309799 0.63025008 0.85541292 0.20968816 0.15564852 0.21075476\n",
      " 0.32766182 0.78135215 0.59293676 0.50941114 0.08937076 0.34673395\n",
      " 0.31437937 0.89431836 0.89519758 0.83787173]\n",
      "[0.14758208 0.23540439 0.37967666 0.55136846 0.71792307 0.37496577\n",
      " 0.27071043 0.53679343 0.7719992  0.17977149 0.69674885 0.56615361\n",
      " 0.52723397 0.67133661 0.37013471 0.37335144 0.75379919 0.03992565\n",
      " 0.41228069 0.4465372  0.81308828 0.47897016 0.73496644 0.06908938\n",
      " 0.78076519 0.20886087 0.07882118 0.33573064 0.47579537 0.12456835\n",
      " 0.0316257  0.16945322 0.74202406 0.11669048 0.75355832 0.64900106\n",
      " 0.80808196 0.59206396 0.25962701 0.80463117 0.32343503 0.10407327\n",
      " 0.55428481 0.67375992 0.39391054 0.06186088 0.13552607 0.70235577\n",
      " 0.06453236 0.58638083 0.23106673 0.24531675 0.81497119 0.72674289\n",
      " 0.26927259 0.8091912  0.55437958 0.27446946 0.70934075 0.3224207\n",
      " 0.78358742 0.29370704 0.80875303 0.1575914  0.32236665 0.50470841\n",
      " 0.13014387 0.80361282 0.22169856 0.5636771  0.78465331 0.83795854\n",
      " 0.75852591 0.72577157 0.59789578 0.39901321 0.05648744 0.51687723\n",
      " 0.81056857 0.25260291 0.30193533 0.17931695 0.389338   0.28073918\n",
      " 0.8377218  0.58934681 0.75484182 0.2081549  0.15502081 0.20919802\n",
      " 0.32183013 0.70424004 0.55879889 0.48766324 0.08925184 0.33982795\n",
      " 0.30922632 0.77978252 0.78033266 0.74322089]\n"
     ]
    }
   ],
   "source": [
    "import numpy as np\n",
    "# Matriz numpy\n",
    "vec = np.random.rand(100)\n",
    "print(vec)\n",
    "vec2 = np.sin(vec)\n",
    "print(vec2)"
   ]
  },
  {
   "cell_type": "code",
   "execution_count": null,
   "id": "28e53d0a-ab44-4149-871e-d1ed678cb408",
   "metadata": {},
   "outputs": [],
   "source": []
  }
 ],
 "metadata": {
  "kernelspec": {
   "display_name": "Python 3 (ipykernel)",
   "language": "python",
   "name": "python3"
  },
  "language_info": {
   "codemirror_mode": {
    "name": "ipython",
    "version": 3
   },
   "file_extension": ".py",
   "mimetype": "text/x-python",
   "name": "python",
   "nbconvert_exporter": "python",
   "pygments_lexer": "ipython3",
   "version": "3.11.8"
  }
 },
 "nbformat": 4,
 "nbformat_minor": 5
}
