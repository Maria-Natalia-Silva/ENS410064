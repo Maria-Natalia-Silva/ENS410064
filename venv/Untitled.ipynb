{
 "cells": [
  {
   "cell_type": "markdown",
   "id": "30fc7d88-5163-4bf9-a672-571996d24567",
   "metadata": {},
   "source": [
    "#Caracterização meteorológica da área de estudo\n",
    "#Nesta atividade caracterizaremos a meteorologia da área de estudo. Avaliaremos os seguintes pontos:\n",
    "\n",
    "#Meteorologia de superfície\n",
    "#Meteorologia upperair ou sondagem/perfil da atmosfera\n",
    "#Superfície - Albedo, razão de Bowen e Rugosidade\n"
   ]
  },
  {
   "cell_type": "markdown",
   "id": "01ce4d72-14a9-4384-866f-6721a2f2f91d",
   "metadata": {},
   "source": [
    "Meteorologia de superfície\n"
   ]
  },
  {
   "cell_type": "code",
   "execution_count": null,
   "id": "40ce56b9-8dec-4874-b6a7-5abab4b2498c",
   "metadata": {},
   "outputs": [],
   "source": []
  }
 ],
 "metadata": {
  "kernelspec": {
   "display_name": "Python 3 (ipykernel)",
   "language": "python",
   "name": "python3"
  },
  "language_info": {
   "codemirror_mode": {
    "name": "ipython",
    "version": 3
   },
   "file_extension": ".py",
   "mimetype": "text/x-python",
   "name": "python",
   "nbconvert_exporter": "python",
   "pygments_lexer": "ipython3",
   "version": "3.11.8"
  }
 },
 "nbformat": 4,
 "nbformat_minor": 5
}
