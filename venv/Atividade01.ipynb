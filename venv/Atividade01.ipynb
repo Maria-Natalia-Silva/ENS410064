{
 "cells": [
  {
   "cell_type": "code",
   "execution_count": null,
   "id": "76dd96b9-cf69-4942-870e-235bf211b19a",
   "metadata": {},
   "outputs": [],
   "source": [
    "import pandas as pd\n",
    "import os \n",
    "\n",
    "cwd = os.getcwd()\n",
    "\n",
    "path = cwd='\\\\tabelas\\\\FE''\n",
    "print(path)\n",
    "\n",
    "chapterNumer = 11\n",
    "subChapter = 7\n",
    "file = 'chp_'+str(chapterNumer)+'_'+str(subChapter)+'.csv'\n",
    "print(file)\n",
    "\n",
    "fe = pd.read_csv(path+'\\\\'+file, delimiter = ';')\n",
    "print(fe)"
   ]
  }
 ],
 "metadata": {
  "kernelspec": {
   "display_name": "Python 3 (ipykernel)",
   "language": "python",
   "name": "python3"
  },
  "language_info": {
   "codemirror_mode": {
    "name": "ipython",
    "version": 3
   },
   "file_extension": ".py",
   "mimetype": "text/x-python",
   "name": "python",
   "nbconvert_exporter": "python",
   "pygments_lexer": "ipython3",
   "version": "3.11.8"
  }
 },
 "nbformat": 4,
 "nbformat_minor": 5
}
